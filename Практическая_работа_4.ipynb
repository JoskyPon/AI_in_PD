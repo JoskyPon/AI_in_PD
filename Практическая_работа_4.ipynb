{
  "nbformat": 4,
  "nbformat_minor": 0,
  "metadata": {
    "colab": {
      "provenance": [],
      "toc_visible": true,
      "include_colab_link": true
    },
    "kernelspec": {
      "name": "python3",
      "display_name": "Python 3"
    },
    "language_info": {
      "name": "python"
    }
  },
  "cells": [
    {
      "cell_type": "markdown",
      "metadata": {
        "id": "view-in-github",
        "colab_type": "text"
      },
      "source": [
        "<a href=\"https://colab.research.google.com/github/JoskyPon/AI_in_PD/blob/main/%D0%9F%D1%80%D0%B0%D0%BA%D1%82%D0%B8%D1%87%D0%B5%D1%81%D0%BA%D0%B0%D1%8F_%D1%80%D0%B0%D0%B1%D0%BE%D1%82%D0%B0_4.ipynb\" target=\"_parent\"><img src=\"https://colab.research.google.com/assets/colab-badge.svg\" alt=\"Open In Colab\"/></a>"
      ]
    },
    {
      "cell_type": "markdown",
      "source": [
        "# Практическая работа 4. Данные в формате CSV"
      ],
      "metadata": {
        "id": "C3DZeo7xi2HL"
      }
    },
    {
      "cell_type": "markdown",
      "source": [
        "ФИО: **Подгайный Александр Александрович**\n",
        "\n",
        "Группа: **ПИН-б-о-22-1**"
      ],
      "metadata": {
        "id": "n7jQfObbnO6_"
      }
    },
    {
      "cell_type": "markdown",
      "source": [
        "## Задание"
      ],
      "metadata": {
        "id": "8wIyzax9q7JF"
      }
    },
    {
      "cell_type": "markdown",
      "source": [
        "В файле p4_data_23.csv содержатся сведения о производстве товаров работниками\n",
        "(ID, сотрудник, категория товара, з/п рабочего, количество\n",
        "произведенных товаров, цена за единицу товара).\n",
        "1. Определите сколько рабочих получают меньше, чем вырабатывают\n",
        "продукции.\n",
        "2. Количество единиц произведенной продукции без категории.\n",
        "3. Суммарный объем в валюте произведенной продукции по каждой из\n",
        "4-х категорий.\n",
        "4. Самый неэффективный сотрудник: с минимальной разницей между\n",
        "произведенным продуктом и зарплатой.\n"
      ],
      "metadata": {
        "id": "pwmyfJoJb5sg"
      }
    },
    {
      "cell_type": "markdown",
      "source": [
        "Выполнение задания"
      ],
      "metadata": {
        "id": "tmD8jV_nQT3Q"
      }
    },
    {
      "cell_type": "code",
      "source": [
        "!wget https://raw.githubusercontent.com/enikolaev/IT-and-Programming/main/data/pract4/p4_data_23.csv"
      ],
      "metadata": {
        "id": "iVVBZ4nG24zC",
        "outputId": "1138f5d4-7ac4-4d7d-9f7b-b50c62ce7c84",
        "colab": {
          "base_uri": "https://localhost:8080/"
        }
      },
      "execution_count": 2,
      "outputs": [
        {
          "output_type": "stream",
          "name": "stdout",
          "text": [
            "--2024-10-17 15:54:05--  https://raw.githubusercontent.com/enikolaev/IT-and-Programming/main/data/pract4/p4_data_23.csv\n",
            "Resolving raw.githubusercontent.com (raw.githubusercontent.com)... 185.199.108.133, 185.199.109.133, 185.199.110.133, ...\n",
            "Connecting to raw.githubusercontent.com (raw.githubusercontent.com)|185.199.108.133|:443... connected.\n",
            "HTTP request sent, awaiting response... 200 OK\n",
            "Length: 46430 (45K) [text/plain]\n",
            "Saving to: ‘p4_data_23.csv’\n",
            "\n",
            "p4_data_23.csv      100%[===================>]  45.34K  --.-KB/s    in 0.01s   \n",
            "\n",
            "2024-10-17 15:54:05 (4.08 MB/s) - ‘p4_data_23.csv’ saved [46430/46430]\n",
            "\n"
          ]
        }
      ]
    },
    {
      "cell_type": "code",
      "source": [
        "F=open('p4_data_23.csv')\n",
        "n_to_print=10\n",
        "for line in F:\n",
        "  n_to_print-=1\n",
        "  if n_to_print>0:\n",
        "    print(line)"
      ],
      "metadata": {
        "id": "ldL-72DG3tXh",
        "outputId": "68b86ece-be46-4387-b043-8cd03bc0a6e1",
        "colab": {
          "base_uri": "https://localhost:8080/"
        }
      },
      "execution_count": 3,
      "outputs": [
        {
          "output_type": "stream",
          "name": "stdout",
          "text": [
            "ID,Name,Category,Salary,Count,Price\n",
            "\n",
            "90-1634534,Toinette Glencrash,A,$860.44,28,$1.35\n",
            "\n",
            "34-5872839,Ban Branford,A,$905.99,24,$3.69\n",
            "\n",
            "58-2779834,Dora Cotta,B,$350.53,45,$38.00\n",
            "\n",
            "95-7538777,Piper Salatino,A,$994.16,31,$8.36\n",
            "\n",
            "04-5580973,Renata Nealon,D,$897.74,48,$3.19\n",
            "\n",
            "70-6304241,Dulce Nerheny,B,$642.22,6,$22.14\n",
            "\n",
            "42-0065280,Crystie Pedrozzi,,$791.97,35,$15.87\n",
            "\n",
            "53-3706440,Lenore Brumpton,C,$982.22,29,$7.52\n",
            "\n"
          ]
        }
      ]
    },
    {
      "cell_type": "code",
      "source": [
        "F=open('p4_data_23.csv')\n",
        "header = F.readline().strip().split(',')\n",
        "print(header)\n",
        "print('-'*20)\n",
        "n_to_print=10\n",
        "for line in F:\n",
        "  # производим обработку в любом случае ...\n",
        "  data = line.strip().split(',')\n",
        "  # ... аа печатаем только первые n_to_print\n",
        "  n_to_print-=1\n",
        "  if n_to_print>0:\n",
        "    print(data)"
      ],
      "metadata": {
        "id": "NMTLXOrL35FB",
        "outputId": "7598b5a1-0333-45d5-ace4-f541cec67277",
        "colab": {
          "base_uri": "https://localhost:8080/"
        }
      },
      "execution_count": 4,
      "outputs": [
        {
          "output_type": "stream",
          "name": "stdout",
          "text": [
            "['ID', 'Name', 'Category', 'Salary', 'Count', 'Price']\n",
            "--------------------\n",
            "['90-1634534', 'Toinette Glencrash', 'A', '$860.44', '28', '$1.35']\n",
            "['34-5872839', 'Ban Branford', 'A', '$905.99', '24', '$3.69']\n",
            "['58-2779834', 'Dora Cotta', 'B', '$350.53', '45', '$38.00']\n",
            "['95-7538777', 'Piper Salatino', 'A', '$994.16', '31', '$8.36']\n",
            "['04-5580973', 'Renata Nealon', 'D', '$897.74', '48', '$3.19']\n",
            "['70-6304241', 'Dulce Nerheny', 'B', '$642.22', '6', '$22.14']\n",
            "['42-0065280', 'Crystie Pedrozzi', '', '$791.97', '35', '$15.87']\n",
            "['53-3706440', 'Lenore Brumpton', 'C', '$982.22', '29', '$7.52']\n",
            "['43-8488790', 'Josiah Cona', 'D', '$578.96', '45', '$46.15']\n"
          ]
        }
      ]
    },
    {
      "cell_type": "code",
      "source": [
        "# Доработаем предыдущий скрипт\n",
        "F=open('p4_data_23.csv')\n",
        "header = F.readline().strip().split(',')\n",
        "\n",
        "# список всех работников\n",
        "all_stuff=[]\n",
        "\n",
        "for line in F:\n",
        "  data = line.strip().split(',')\n",
        "  stuff = {} # создаем пустой словарь\n",
        "  for i, key in enumerate(header): # обходим все заголовки\n",
        "    stuff[key] = data[i] # добавляем в словарь клюс:значение\n",
        "\n",
        "  # некоторые значения придется конвертировать к подходящим типам\n",
        "  stuff['Salary'] = float(stuff['Salary'][1:])\n",
        "  stuff['Price'] = float(stuff['Price'][1:])\n",
        "\n",
        "  all_stuff.append(stuff) # добавляем клиента в скписок\n",
        "\n",
        "print(all_stuff[:10]) # напечатаем первых 10 клиентов\n",
        "\n",
        "F.close() # файл больше не нужен"
      ],
      "metadata": {
        "id": "0uClteMy4K-x",
        "outputId": "d46b13f7-b9ec-4a79-dab8-0bffbd15a484",
        "colab": {
          "base_uri": "https://localhost:8080/"
        }
      },
      "execution_count": 5,
      "outputs": [
        {
          "output_type": "stream",
          "name": "stdout",
          "text": [
            "[{'ID': '90-1634534', 'Name': 'Toinette Glencrash', 'Category': 'A', 'Salary': 860.44, 'Count': '28', 'Price': 1.35}, {'ID': '34-5872839', 'Name': 'Ban Branford', 'Category': 'A', 'Salary': 905.99, 'Count': '24', 'Price': 3.69}, {'ID': '58-2779834', 'Name': 'Dora Cotta', 'Category': 'B', 'Salary': 350.53, 'Count': '45', 'Price': 38.0}, {'ID': '95-7538777', 'Name': 'Piper Salatino', 'Category': 'A', 'Salary': 994.16, 'Count': '31', 'Price': 8.36}, {'ID': '04-5580973', 'Name': 'Renata Nealon', 'Category': 'D', 'Salary': 897.74, 'Count': '48', 'Price': 3.19}, {'ID': '70-6304241', 'Name': 'Dulce Nerheny', 'Category': 'B', 'Salary': 642.22, 'Count': '6', 'Price': 22.14}, {'ID': '42-0065280', 'Name': 'Crystie Pedrozzi', 'Category': '', 'Salary': 791.97, 'Count': '35', 'Price': 15.87}, {'ID': '53-3706440', 'Name': 'Lenore Brumpton', 'Category': 'C', 'Salary': 982.22, 'Count': '29', 'Price': 7.52}, {'ID': '43-8488790', 'Name': 'Josiah Cona', 'Category': 'D', 'Salary': 578.96, 'Count': '45', 'Price': 46.15}, {'ID': '90-0969656', 'Name': 'Ollie Sealand', 'Category': 'D', 'Salary': 626.26, 'Count': '24', 'Price': 39.06}]\n"
          ]
        }
      ]
    },
    {
      "cell_type": "code",
      "source": [],
      "metadata": {
        "id": "ogVLk6Ku30yX"
      },
      "execution_count": null,
      "outputs": []
    },
    {
      "cell_type": "code",
      "source": [
        "#Задание 1\n",
        "\n",
        "value=0\n",
        "\n",
        "#stuff['Count'] = int(stuff['Count'])\n",
        "\n",
        "for stuff in all_stuff:\n",
        "  if float(stuff['Count']) * stuff['Price'] > stuff['Salary']:\n",
        "    value += 1\n",
        "\n",
        "print('Количество рабочих, которые получают меньше, чем вырабатывают продукции: ', value)"
      ],
      "metadata": {
        "id": "zLdQHQIq801G",
        "outputId": "bc5d419f-719a-4e1d-a514-40b92635b20b",
        "colab": {
          "base_uri": "https://localhost:8080/"
        }
      },
      "execution_count": 6,
      "outputs": [
        {
          "output_type": "stream",
          "name": "stdout",
          "text": [
            "Количество рабочих, которые получают меньше, чем вырабатывают продукции:  472\n"
          ]
        }
      ]
    },
    {
      "cell_type": "code",
      "source": [
        "#Задание 2\n",
        "\n",
        "total_count = 0\n",
        "\n",
        "for stuff in all_stuff:\n",
        "  total_count += int(stuff['Count'])\n",
        "\n",
        "print('Количество произведенной продукции :', total_count)"
      ],
      "metadata": {
        "id": "LYoJr4dP_m_P",
        "outputId": "fdbf297d-ba28-499f-b039-29e3d4f3ce9d",
        "colab": {
          "base_uri": "https://localhost:8080/"
        }
      },
      "execution_count": 7,
      "outputs": [
        {
          "output_type": "stream",
          "name": "stdout",
          "text": [
            "Количество произведенной продукции : 24600\n"
          ]
        }
      ]
    },
    {
      "cell_type": "code",
      "source": [
        "#Задание 3\n",
        "\n",
        "total_count_A = 0\n",
        "total_count_B = 0\n",
        "total_count_C = 0\n",
        "total_count_D = 0\n",
        "\n",
        "for stuff in all_stuff:\n",
        "  match stuff['Category']:\n",
        "    case 'A': (total_count_A) += stuff['Price']\n",
        "    case 'B': (total_count_B) += stuff['Price']\n",
        "    case 'C': (total_count_C) += stuff['Price']\n",
        "    case 'D': (total_count_D) += stuff['Price']\n",
        "\n",
        "print('Суммарный объем в валюте произведенной продукции категории A = ', total_count_A)\n",
        "print('Суммарный объем в валюте произведенной продукции категории B = ', total_count_B)\n",
        "print('Суммарный объем в валюте произведенной продукции категории C = ', total_count_C)\n",
        "print('Суммарный объем в валюте произведенной продукции категории D = ', total_count_D)"
      ],
      "metadata": {
        "id": "zww5otR2Irer",
        "outputId": "57b32249-2d41-4b39-e116-8b49316b0146",
        "colab": {
          "base_uri": "https://localhost:8080/"
        }
      },
      "execution_count": 13,
      "outputs": [
        {
          "output_type": "stream",
          "name": "stdout",
          "text": [
            "Суммарный объем в валюте произведенной продукции категории A =  6150.849999999998\n",
            "Суммарный объем в валюте произведенной продукции категории B =  5389.5\n",
            "Суммарный объем в валюте произведенной продукции категории C =  5898.699999999998\n",
            "Суммарный объем в валюте произведенной продукции категории D =  5875.2800000000025\n"
          ]
        }
      ]
    },
    {
      "cell_type": "code",
      "source": [
        "#Задание 4\n",
        "\n",
        "target_stuff=[]\n",
        "min_profit = 0\n",
        "\n",
        "for stuff in all_stuff:\n",
        "  if stuff['Salary'] - float(stuff['Count']) * stuff['Price'] > min_profit and stuff['Salary'] - float(stuff['Count']) * stuff['Price'] > 0:\n",
        "    min_profit = stuff['Salary'] - float(stuff['Count']) * stuff['Price']\n",
        "    target_stuff = stuff\n",
        "\n",
        "print('Самый неэффективный сотрудник', target_stuff)"
      ],
      "metadata": {
        "id": "mioqXpC1NoED",
        "outputId": "b1a93b59-4334-4acb-f9cd-b45b656c8e2c",
        "colab": {
          "base_uri": "https://localhost:8080/"
        }
      },
      "execution_count": 15,
      "outputs": [
        {
          "output_type": "stream",
          "name": "stdout",
          "text": [
            "Самый неэффективный сотрудник {'ID': '78-1250127', 'Name': 'Cecil Robens', 'Category': 'C', 'Salary': 986.95, 'Count': '1', 'Price': 2.62}\n"
          ]
        }
      ]
    },
    {
      "cell_type": "markdown",
      "source": [
        "# Контрольные вопросы"
      ],
      "metadata": {
        "id": "JRIh2qs3mz4D"
      }
    },
    {
      "cell_type": "markdown",
      "source": [
        "Ответы на контрольные вопросы также необходимо предоставить в блокноте\n",
        "Python Notebook:\n",
        "1. Напишите код для печати суммы элементов списка p:\n",
        "p = [10, 100, 34, 56, 45, 45]\n",
        "2. Напишите код для печати количества элементов списка p:\n",
        "p = [10, 100, 34, 56, 45, 45]\n",
        "1. Напишите код для печати суммы элементов кратных 7:\n",
        "p = [10, 100, 35, 34, 56, 45, 45, 21]\n",
        "4. Напишите код для поиска ключей словаря d, для которых значения\n",
        "превышают 45:\n",
        "p = {4:10, 12:100, 35:3, 34:56, 56:11, 45:’abc’}\n",
        "5. Напишите код, который выводит список, составленный из квадратов чисел\n",
        "от 1 до 100. Сам список также необходимо сгенерировать.\n",
        "6. Опишите структуру файла csv. Поясните последовательность действий при\n",
        "чтении файла csv."
      ],
      "metadata": {
        "id": "N0BSKd_1m91y"
      }
    }
  ]
}