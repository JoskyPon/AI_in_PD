{
  "nbformat": 4,
  "nbformat_minor": 0,
  "metadata": {
    "colab": {
      "provenance": [],
      "toc_visible": true,
      "include_colab_link": true
    },
    "kernelspec": {
      "name": "python3",
      "display_name": "Python 3"
    },
    "language_info": {
      "name": "python"
    }
  },
  "cells": [
    {
      "cell_type": "markdown",
      "metadata": {
        "id": "view-in-github",
        "colab_type": "text"
      },
      "source": [
        "<a href=\"https://colab.research.google.com/github/JoskyPon/AI_in_PD/blob/main/%D0%9F%D1%80%D0%B0%D0%BA%D1%82%D0%B8%D1%87%D0%B5%D1%81%D0%BA%D0%B0%D1%8F_%D1%80%D0%B0%D0%B1%D0%BE%D1%82%D0%B0_2.ipynb\" target=\"_parent\"><img src=\"https://colab.research.google.com/assets/colab-badge.svg\" alt=\"Open In Colab\"/></a>"
      ]
    },
    {
      "cell_type": "markdown",
      "source": [
        "# Практическая работа 2. Основные конструкции языка"
      ],
      "metadata": {
        "id": "C3DZeo7xi2HL"
      }
    },
    {
      "cell_type": "markdown",
      "source": [
        "Выполнил Подгайный Александр Группа ПИН-б-о-22-1"
      ],
      "metadata": {
        "id": "sIYTjAxVRTKh"
      }
    },
    {
      "cell_type": "markdown",
      "source": [
        "## Задание"
      ],
      "metadata": {
        "id": "8wIyzax9q7JF"
      }
    },
    {
      "cell_type": "markdown",
      "source": [
        "Напишите скрипт для подсчета количества троек рядом стоящих\n",
        "вещественных элементов в списке, состоящем из элементов\n",
        "произвольного типа. В каждой тройке средний элемент должен быть\n",
        "больше 10, а два соседних меньше 10"
      ],
      "metadata": {
        "id": "A1UMdzQGjFix"
      }
    },
    {
      "cell_type": "markdown",
      "source": [
        "## Решение задачи"
      ],
      "metadata": {
        "id": "JCG1FflCrJRE"
      }
    },
    {
      "cell_type": "code",
      "source": [
        "def count_triplets(data):\n",
        "\n",
        "  count = 0  # Инициализируем счетчик троек\n",
        "\n",
        "  for i in range(1, len(data) - 1):  # Проходим по списку, начиная со второго элемента\n",
        "    if isinstance(data[i], (int, float)) and data[i] > 10:  # Проверяем, является ли средний элемент числом и больше ли он 10\n",
        "      if isinstance(data[i - 1], (int, float)) and data[i - 1] < 10:  # Проверяем, является ли левый элемент числом и меньше ли он 10\n",
        "        if isinstance(data[i + 1], (int, float)) and data[i + 1] < 10:  # Проверяем, является ли правый элемент числом и меньше ли он 10\n",
        "          count += 1  # Увеличиваем счетчик, если все условия выполнены\n",
        "\n",
        "  return count\n",
        "\n",
        "data = [1, 2, 11, 3, 4, 5, 6, 7, 8, 12, 9, 10]\n",
        "\n",
        "count = count_triplets(data)\n",
        "\n",
        "print(f\"Количество троек: {count}\")\n"
      ],
      "metadata": {
        "colab": {
          "base_uri": "https://localhost:8080/"
        },
        "id": "v5SpmCokphuJ",
        "outputId": "73857a91-e66d-449b-a26e-db4783dc3c05"
      },
      "execution_count": null,
      "outputs": [
        {
          "output_type": "stream",
          "name": "stdout",
          "text": [
            "Количество троек: 2\n"
          ]
        }
      ]
    },
    {
      "cell_type": "markdown",
      "source": [
        "В данной работе были использованы операторы `if` (условный оператор), `for ... in range(...)` (оператор цикла с обходом диапазона). Применялись функции `print()`, `type()`"
      ],
      "metadata": {
        "id": "kfm23877A4o2"
      }
    },
    {
      "cell_type": "markdown",
      "source": [
        "Контрольные вопросы"
      ],
      "metadata": {
        "id": "fFpysnP2S8Ps"
      }
    },
    {
      "cell_type": "markdown",
      "source": [
        "1. Какой оператор предназначен для многократного повторения блока кода?\n",
        "for\n",
        "2. Перечислите операторы, применяемые в работе скрипта из учебной задачи.\n",
        "if, for in range\n",
        "3. Перечислите параметры функции print( ). Опишите их назначение.\n",
        "objects — один или несколько объектов для вывода.\n",
        "sep — строка-разделитель между объектами. По умолчанию это пробел.\n",
        "end — строка, добавляемая после последнего объекта. ...\n",
        "file — объект, куда будет направлен вывод. ...\n",
        "flush — если True , то вывод будет происходить немедленно.\n",
        "4. Что такое список в языке Python?\n",
        " упорядоченный набор элементов, каждый из которых имеет свой номер, или индекс, позволяющий быстро получить к нему доступ.\n",
        "5. Объясните механизм обращения к элементам списка.\n",
        "Пишем название списка и в квадратных скобках индекс элемента списка.\n",
        "6. Поясните чем список отличается от массива (например в С++).\n",
        " При использовании связанного списка элементы могут размещаться где угодно в памяти\n",
        " При использовании массива элементы хранятся в памяти непрерывно, то есть рядом друг с другом.\n"
      ],
      "metadata": {
        "id": "hU60AauURbVA"
      }
    }
  ]
}