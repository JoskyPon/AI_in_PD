{
  "nbformat": 4,
  "nbformat_minor": 0,
  "metadata": {
    "colab": {
      "provenance": [],
      "toc_visible": true,
      "include_colab_link": true
    },
    "kernelspec": {
      "name": "python3",
      "display_name": "Python 3"
    },
    "language_info": {
      "name": "python"
    }
  },
  "cells": [
    {
      "cell_type": "markdown",
      "metadata": {
        "id": "view-in-github",
        "colab_type": "text"
      },
      "source": [
        "<a href=\"https://colab.research.google.com/github/JoskyPon/AI_in_PD/blob/main/%D0%9F%D1%80%D0%B0%D0%BA%D1%82%D0%B8%D1%87%D0%B5%D1%81%D0%BA%D0%B0%D1%8F_%D1%80%D0%B0%D0%B1%D0%BE%D1%82%D0%B0_1%22.ipynb\" target=\"_parent\"><img src=\"https://colab.research.google.com/assets/colab-badge.svg\" alt=\"Open In Colab\"/></a>"
      ]
    },
    {
      "cell_type": "markdown",
      "source": [
        "# Практическая работа 1. Простейший скрипт Python"
      ],
      "metadata": {
        "id": "C3DZeo7xi2HL"
      }
    },
    {
      "cell_type": "markdown",
      "source": [
        "Выполнил Подгайный Александр\n",
        "Группа ПИН-б-о-22-1"
      ],
      "metadata": {
        "id": "LnXkFFpXDc12"
      }
    },
    {
      "cell_type": "markdown",
      "source": [
        "## Задание"
      ],
      "metadata": {
        "id": "8wIyzax9q7JF"
      }
    },
    {
      "cell_type": "code",
      "source": [],
      "metadata": {
        "id": "ojkWwxOoEvrM"
      },
      "execution_count": null,
      "outputs": []
    },
    {
      "cell_type": "markdown",
      "source": [
        "Необходимо вычислить значение выражения:\n",
        "$$g11 = t * z + z * f1- \\frac{f1 + u}t$$\n",
        "Для каждой переменной необходимо вывести ее значение и тип."
      ],
      "metadata": {
        "id": "A1UMdzQGjFix"
      }
    },
    {
      "cell_type": "markdown",
      "source": [
        "## Анализ выражения и определение переменных"
      ],
      "metadata": {
        "id": "RGlwZaXQrAfd"
      }
    },
    {
      "cell_type": "markdown",
      "source": [],
      "metadata": {
        "id": "iuvRHg5lCCYE"
      }
    },
    {
      "cell_type": "code",
      "source": [],
      "metadata": {
        "id": "fkt2UkTnCKvs"
      },
      "execution_count": null,
      "outputs": []
    },
    {
      "cell_type": "markdown",
      "source": [
        "Проанализируем выражение и определим переменные, которые потребуются для выполнения задания. Независимые переменные: $x, y, a, k\\_to$. Переменная, которая должна быть вычислена на основе независимых: $Z$."
      ],
      "metadata": {
        "id": "dusmGf0PoHeU"
      }
    },
    {
      "cell_type": "code",
      "execution_count": null,
      "metadata": {
        "id": "GRcewQyGh7dD",
        "colab": {
          "base_uri": "https://localhost:8080/"
        },
        "outputId": "f0699e57-c217-4433-b6ff-e80243f3fe11"
      },
      "outputs": [
        {
          "output_type": "stream",
          "name": "stdout",
          "text": [
            "t =  5 , type(t) =  <class 'int'>\n",
            "z =  19.66 , type(z) =  <class 'float'>\n",
            "f =  6 , type(f) =  <class 'int'>\n",
            "u =  4 , type(u) =  <class 'int'>\n"
          ]
        }
      ],
      "source": [
        "t=5\n",
        "z=19.66\n",
        "f = 6\n",
        "u=4\n",
        "print(\"t = \", t, \", type(t) = \", type(t))\n",
        "print(\"z = \", z, \", type(z) = \", type(z))\n",
        "print(\"f = \", f, \", type(f) = \", type(f))\n",
        "print(\"u = \", u, \", type(u) = \", type(u))"
      ]
    },
    {
      "cell_type": "markdown",
      "source": [
        "## Вычисление выражение, печать результатов"
      ],
      "metadata": {
        "id": "JCG1FflCrJRE"
      }
    },
    {
      "cell_type": "markdown",
      "source": [
        "Код для вычисления значения выражения $Z$:"
      ],
      "metadata": {
        "id": "9ky-Ji8ppVb9"
      }
    },
    {
      "cell_type": "code",
      "source": [
        "g11=(t*z+z*f-((f + u)/t))\n",
        "print('g11=',g11)\n",
        "print('Type of g11: ', type(g11))"
      ],
      "metadata": {
        "colab": {
          "base_uri": "https://localhost:8080/"
        },
        "id": "v5SpmCokphuJ",
        "outputId": "98bda528-7bfc-428f-8acd-331879995543"
      },
      "execution_count": null,
      "outputs": [
        {
          "output_type": "stream",
          "name": "stdout",
          "text": [
            "g11= 214.26\n",
            "Type of g11:  <class 'float'>\n"
          ]
        }
      ]
    },
    {
      "cell_type": "markdown",
      "source": [
        "Основные функции, используемые в данной практической работе: `print(), type(), abs()`"
      ],
      "metadata": {
        "id": "QgydWXtBqRUl"
      }
    },
    {
      "cell_type": "markdown",
      "source": [
        "1. Чем отличается интерпретируемый язык программирования от\n",
        "компилируемого?\n",
        " Интерпретируемые языки выполняются построчно интерпретатором, тогда как компилируемые языки сначала компилируются в машинный код, а затем выполняются\n",
        "2. Перечислите компилируемые языки программирования.\n",
        "C, С++, Java, Swift, Go\n",
        "3. Перечислите интерпретируемые языки программирования.\n",
        "JavaScript, PHP, Python\n",
        "4. Как объявляется переменные в языке Python?\n",
        "5. Каким образом определить тип переменной в языке Python?\n",
        " достаточно написать имя переменной, знак «=» и значение переменной\n",
        "6. Для чего используется функция print( ) ?\n",
        " выводит на экран данные\n",
        "7. Какая функция предназначена для вычисления модуля в Python? Какую\n",
        "библиотеку необходимо для этого подключить?\n",
        "Для проведения вычислений с действительными числами язык Питон содержит много дополнительных функций, собранных в библиотеку (модуль), которая называется math\n",
        " fabs() из подключаемой библиотеки math и встроенная функция abs()\n",
        "8. Какие из перечисленных идентификаторов нельзя использовать в качестве\n",
        "имен пользовательских переменных?\n",
        "_1_01, b100, int, double_1, _b200, MyVar, create-var, _1_01,\n",
        "_5elem, zo0, wodoo, UserCount, system_call, string, System.Double.\n",
        "\\\\\\ create-var, System.Double, _1_01, _1_01, _5elem, string\n",
        "9. Перечислите основные типы в Python.\n",
        "Numbers (числа)\n",
        "Strings (строки)\n",
        "Lists (списки)\n",
        "Dictionaries (словари)\n",
        "Tuples (кортежи)\n",
        "Sets (множества)\n",
        "Boolean (логический тип данных)\n"
      ],
      "metadata": {
        "id": "tShtFkMxJIx6"
      }
    },
    {
      "cell_type": "markdown",
      "source": [],
      "metadata": {
        "id": "GDaNwIOtJMO5"
      }
    }
  ]
}