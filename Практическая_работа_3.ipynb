{
  "nbformat": 4,
  "nbformat_minor": 0,
  "metadata": {
    "colab": {
      "provenance": [],
      "toc_visible": true,
      "include_colab_link": true
    },
    "kernelspec": {
      "name": "python3",
      "display_name": "Python 3"
    },
    "language_info": {
      "name": "python"
    }
  },
  "cells": [
    {
      "cell_type": "markdown",
      "metadata": {
        "id": "view-in-github",
        "colab_type": "text"
      },
      "source": [
        "<a href=\"https://colab.research.google.com/github/JoskyPon/AI_in_PD/blob/main/%D0%9F%D1%80%D0%B0%D0%BA%D1%82%D0%B8%D1%87%D0%B5%D1%81%D0%BA%D0%B0%D1%8F_%D1%80%D0%B0%D0%B1%D0%BE%D1%82%D0%B0_3.ipynb\" target=\"_parent\"><img src=\"https://colab.research.google.com/assets/colab-badge.svg\" alt=\"Open In Colab\"/></a>"
      ]
    },
    {
      "cell_type": "markdown",
      "source": [
        "# Практическая работа 3. Обработка данных из файла"
      ],
      "metadata": {
        "id": "C3DZeo7xi2HL"
      }
    },
    {
      "cell_type": "markdown",
      "source": [
        "Выполнил Подгайный Александр Группа ПИН-б-о-22-1"
      ],
      "metadata": {
        "id": "n3SZfK7rWup_"
      }
    },
    {
      "cell_type": "markdown",
      "source": [
        "## Задание"
      ],
      "metadata": {
        "id": "8wIyzax9q7JF"
      }
    },
    {
      "cell_type": "markdown",
      "source": [
        "В файле data_v2.txt посчитайте количество символов,\n",
        "расположенных между гласными буквами\n"
      ],
      "metadata": {
        "id": "A1UMdzQGjFix"
      }
    },
    {
      "cell_type": "markdown",
      "source": [
        "## Анализ задания, получение данных"
      ],
      "metadata": {
        "id": "RGlwZaXQrAfd"
      }
    },
    {
      "cell_type": "markdown",
      "source": [
        "Файл data_v1.txt расположен репозитории. Выполним копирование файла в локальное хранилище Google Colab, используя следующую команду:"
      ],
      "metadata": {
        "id": "dusmGf0PoHeU"
      }
    },
    {
      "cell_type": "code",
      "execution_count": null,
      "metadata": {
        "id": "GRcewQyGh7dD",
        "colab": {
          "base_uri": "https://localhost:8080/"
        },
        "outputId": "fd49a66d-9000-41dd-fe6f-734a26bb2919"
      },
      "outputs": [
        {
          "output_type": "stream",
          "name": "stdout",
          "text": [
            "--2024-09-23 09:58:02--  https://raw.githubusercontent.com/enikolaev/IT-and-Programming/main/data/data_v2.txt\n",
            "Resolving raw.githubusercontent.com (raw.githubusercontent.com)... 185.199.110.133, 185.199.111.133, 185.199.109.133, ...\n",
            "Connecting to raw.githubusercontent.com (raw.githubusercontent.com)|185.199.110.133|:443... connected.\n",
            "HTTP request sent, awaiting response... 200 OK\n",
            "Length: 85775 (84K) [text/plain]\n",
            "Saving to: ‘data_v2.txt’\n",
            "\n",
            "data_v2.txt         100%[===================>]  83.76K  --.-KB/s    in 0.08s   \n",
            "\n",
            "2024-09-23 09:58:03 (1.00 MB/s) - ‘data_v2.txt’ saved [85775/85775]\n",
            "\n"
          ]
        }
      ],
      "source": [
        "!wget https://raw.githubusercontent.com/enikolaev/IT-and-Programming/main/data/data_v2.txt\n"
      ]
    },
    {
      "cell_type": "markdown",
      "source": [
        "Можно скопировать и поместить файл с данными любым удобным способом"
      ],
      "metadata": {
        "id": "hupq--jq0PA3"
      }
    },
    {
      "cell_type": "markdown",
      "source": [
        "Реализуем чтение всего файла в строку с использованием метоа `open()` и `read()`:"
      ],
      "metadata": {
        "id": "YlvR9gr-9qJY"
      }
    },
    {
      "cell_type": "code",
      "source": [
        "f=open('data_v2.txt')\n",
        "s=f.read().strip()\n",
        "print(len(s))"
      ],
      "metadata": {
        "colab": {
          "base_uri": "https://localhost:8080/"
        },
        "id": "GzShFx3l0l49",
        "outputId": "32455e80-e088-47d2-e8f8-e21760684abc"
      },
      "execution_count": null,
      "outputs": [
        {
          "output_type": "stream",
          "name": "stdout",
          "text": [
            "85775\n"
          ]
        }
      ]
    },
    {
      "cell_type": "markdown",
      "source": [
        "Обратите внимание на использование методв `strip()`"
      ],
      "metadata": {
        "id": "7F4tUxgX1dwL"
      }
    },
    {
      "cell_type": "markdown",
      "source": [
        "## Обработка символьной последовательности"
      ],
      "metadata": {
        "id": "vq_Sojap2Crl"
      }
    },
    {
      "cell_type": "markdown",
      "source": [
        "Строки, подобно списка, являются коллекциями. Только в качестве элементов последовательности выступают символы. Для строк также используются функции нахождения длины `len()`, операция индексации `[]`"
      ],
      "metadata": {
        "id": "ph9AVTOp-etP"
      }
    },
    {
      "cell_type": "markdown",
      "source": [
        "Например, можно посимвольно обходить строку, используя цикл `for` и индекс строки:"
      ],
      "metadata": {
        "id": "HZUZu-Jx-zYn"
      }
    },
    {
      "cell_type": "code",
      "source": [
        "# Вывод первых 10 символов строки с одновременным анализом буква это или цифра\n",
        "for i in range(10):\n",
        "  c = s[i]\n",
        "  if c.isdigit():\n",
        "    t = 'цифра'\n",
        "  else:\n",
        "    t='буква'\n",
        "  print(c, t)"
      ],
      "metadata": {
        "colab": {
          "base_uri": "https://localhost:8080/"
        },
        "id": "FkMWXzXO2Ra2",
        "outputId": "b528c779-3fb2-429e-ccc7-5f81375cd53f"
      },
      "execution_count": null,
      "outputs": [
        {
          "output_type": "stream",
          "name": "stdout",
          "text": [
            "Z буква\n",
            "S буква\n",
            "t буква\n",
            "M буква\n",
            "P буква\n",
            "i буква\n",
            "7 цифра\n",
            "c буква\n",
            "s буква\n",
            "i буква\n"
          ]
        }
      ]
    },
    {
      "cell_type": "markdown",
      "source": [
        "## Решение задачи"
      ],
      "metadata": {
        "id": "Xs4oLWFl2eGJ"
      }
    },
    {
      "cell_type": "code",
      "source": [
        "def count_symbols_between_vowels(text):\n",
        "\n",
        "  vowels = \"aeiouyAEIOUY\"\n",
        "  count = 0\n",
        "  in_between = False\n",
        "\n",
        "  for i in range(len(text)):\n",
        "    if text[i] in vowels:\n",
        "      in_between = True\n",
        "    elif in_between:\n",
        "      count += 1\n",
        "    else:\n",
        "      in_between = False\n",
        "\n",
        "  return count\n",
        "\n",
        "# Пример использования\n",
        "text = s\n",
        "result = count_symbols_between_vowels(text)\n",
        "print(f\"{result}\")\n"
      ],
      "metadata": {
        "id": "mpuRsr2xVkRv",
        "outputId": "cbcaca46-0a2f-472f-f787-6f073cef5fde",
        "colab": {
          "base_uri": "https://localhost:8080/"
        }
      },
      "execution_count": null,
      "outputs": [
        {
          "output_type": "stream",
          "name": "stdout",
          "text": [
            "69201\n"
          ]
        }
      ]
    },
    {
      "cell_type": "markdown",
      "source": [
        "В данной работе были использованы операторы `if` (условный оператор), `for ... in range(...)` (оператор цикла с обходом диапазона). Применялись функции `print()`, `len()`, `max()`. В работе использовался тип данных `dict()`"
      ],
      "metadata": {
        "id": "kfm23877A4o2"
      }
    },
    {
      "cell_type": "markdown",
      "source": [
        "Контрольные вопросы"
      ],
      "metadata": {
        "id": "Q2Shw8AAW5EH"
      }
    },
    {
      "cell_type": "markdown",
      "source": [
        "1. Что общего у строки и списка в Python?\n",
        " доступ к элементу по индексу и срезы\n",
        "2. Перечислите и охарактеризуйте функции класса str в Python.\n",
        "print(), len(), max(), strip(), upper() и тд\n",
        "3. Охарактеризуйте тип данных dict в Python.\n",
        "изменяемый контейнерный объект, который поддерживает поиск произвольных ключей\n",
        "4. Перечислите и опишите использование функций класса dict.\n",
        "изменяемый контейнерный объект, который поддерживает поиск произвольных ключей\n",
        "5. Опишите механизм чтения данных из текстового файла.\n",
        "Реализуем чтение всего файла в строку с использованием методов open() и read():\n",
        "6. Опишите назначение, сходства и различия функций чтения из текстового\n",
        "файла: read( ), readline( ), readlines( ).\n",
        "7. как прочитать многострочный текстовый файл не используя явно методы\n",
        "read( ), readline( ), readlines( )?\n",
        "read возвращает весь файл как одну строку, readline возвращает первую строку файла до символа новой строки, readlines возвращает список строк, каждая из которых представляет одну строку файла"
      ],
      "metadata": {
        "id": "sR8LSzceW85X"
      }
    }
  ]
}